{
 "cells": [
  {
   "cell_type": "markdown",
   "metadata": {},
   "source": [
    "# Grid world path optimization using genetic algorithms"
   ]
  },
  {
   "cell_type": "markdown",
   "metadata": {},
   "source": [
    "## Importing modules"
   ]
  },
  {
   "cell_type": "code",
   "execution_count": 1,
   "metadata": {},
   "outputs": [],
   "source": [
    "import os\n",
    "import subprocess\n",
    "\n",
    "import copy\n",
    "import shutil\n",
    "import random\n",
    "from tqdm import tqdm\n",
    "\n",
    "import numpy as np\n",
    "import matplotlib.pyplot as plt\n",
    "\n",
    "import cv2\n",
    "from IPython.display import Video\n",
    "\n",
    "import functions as fn"
   ]
  },
  {
   "cell_type": "markdown",
   "metadata": {},
   "source": [
    "## Parameters"
   ]
  },
  {
   "cell_type": "code",
   "execution_count": 2,
   "metadata": {},
   "outputs": [],
   "source": [
    "# Paths\n",
    "RESULTS_PATH = \"./results\"\n",
    "GA_RESULTS_PATH = f\"{RESULTS_PATH}/GA results\"\n",
    "ALL_TO_ALL_RESULTS_PATH = f\"{GA_RESULTS_PATH}/all to all results\"\n",
    "ALL_TO_ALL_VIDEO_PATH = f\"{GA_RESULTS_PATH}/all_to_all_results.mp4\"\n",
    "ALL_TO_BEST_RESULTS_PATH = f\"{GA_RESULTS_PATH}/all to best results\"\n",
    "ALL_TO_BEST_VIDEO_PATH = f\"{GA_RESULTS_PATH}/all_to_best_results.mp4\"\n",
    "HYBRID_RESULTS_PATH = f\"{GA_RESULTS_PATH}/hybrid results\"\n",
    "HYBRID_VIDEO_PATH = f\"{GA_RESULTS_PATH}/hybrid_results.mp4\"\n",
    "\n",
    "# Grid parameters\n",
    "GRID_SIZE = (10, 15)\n",
    "START_POSITION = (6, 1)\n",
    "END_POSITION = (4, 13)\n",
    "OBSTACLES = [\n",
    "    (0, 0), (0, 1), (0, 2), (0, 3), (0, 4), (0, 5), (0, 6), (0, 7), (0, 8), (0, 9), (0, 10), (0, 11), (0, 12), (0, 13), (0, 14),\n",
    "    (1, 0), (1, 14), (2, 0), (2, 5), (2, 6), (2, 11), (2, 14), (3, 0), (3, 11), (3, 14), (4, 0), (4, 9), (4, 10), (4, 11), (4, 14), \n",
    "    (5, 0), (5, 6), (5, 11), (5, 14), (6, 0), (6, 6), (6, 9), (6, 11), (6, 14), (7, 0), (7, 6), (7, 14), (8, 0), (8, 3), (8, 6), (8, 14), \n",
    "    (9, 0), (9, 1), (9, 2), (9, 3), (9, 4), (9, 5), (9, 6), (9, 7), (9, 8), (9, 9), (9, 10), (9, 11), (9, 12), (9, 13), (9, 14)\n",
    "]\n",
    "TRAPS = [(1, 3), (2, 3), (2, 7), (3, 3), (3, 10), (4, 3), (5, 3), (5, 13), (7, 9)]\n",
    "NUM_OPTIMAL_STEPS = 20\n",
    "\n",
    "# Simulation parameters\n",
    "PATH_LENGTH = 64\n",
    "POPULATION_SIZE = 1000\n",
    "GENERATIONS = 100\n",
    "PENALTY_COEFFICIENTS = [1, 1.25, 1.5]\n",
    "BIAS = 2\n",
    "MUTATION_RATE = 0.01\n",
    "EARLY_STOP = False\n",
    "BEST_ONES_PERCENTAGE = 0.2\n",
    "WORST_ONES_PERCENTAGE = 0.2\n",
    "\n",
    "# Other\n",
    "RANDOM_STATE = 42\n",
    "LINE = 100*'-'\n",
    "DOUBLE_LINE = 100*'='\n",
    "SIMULATION_STARTED = 36*'-' + \" !!! SIMULATION STARTED !!! \" + 36*'-'\n",
    "SIMULATION_FINISHED = 36*'-' + \" !!! SIMULATION FINISHED !!! \" + 35*'-'"
   ]
  },
  {
   "cell_type": "markdown",
   "metadata": {},
   "source": [
    "## Results directories creation"
   ]
  },
  {
   "cell_type": "code",
   "execution_count": 3,
   "metadata": {},
   "outputs": [],
   "source": [
    "os.makedirs(RESULTS_PATH, exist_ok=True)\n",
    "for directory in [GA_RESULTS_PATH, ALL_TO_ALL_RESULTS_PATH, ALL_TO_BEST_RESULTS_PATH, HYBRID_RESULTS_PATH]:\n",
    "    fn.create_or_empty_directory(directory)"
   ]
  },
  {
   "cell_type": "markdown",
   "metadata": {},
   "source": [
    "## Grid world initialization"
   ]
  },
  {
   "cell_type": "code",
   "execution_count": null,
   "metadata": {},
   "outputs": [],
   "source": [
    "initial_grid_world = fn.grid_world_creation(GRID_SIZE, START_POSITION, END_POSITION, OBSTACLES, TRAPS)\n",
    "fn.grid_world_visualization(initial_grid_world,title=\"Initial grid world visualization\", agent_flag=0)"
   ]
  },
  {
   "cell_type": "markdown",
   "metadata": {},
   "source": [
    "## All to all crossover case"
   ]
  },
  {
   "cell_type": "markdown",
   "metadata": {},
   "source": [
    "In this simulation, we explore the principles of genetic algorithms with a focus on the role of bias in the selection process. Genetic algorithms, inspired by natural selection, use mechanisms such as selection, crossover, and mutation to evolve solutions over generations. By introducing bias in the selection of parents, we aim to emphasize the importance of fitter individuals in guiding the evolution process. This bias ensures that better-performing agents have a higher chance of passing on their traits, leading to a more efficient optimization of paths and behaviors in the grid world."
   ]
  },
  {
   "cell_type": "markdown",
   "metadata": {},
   "source": [
    "### Simulation"
   ]
  },
  {
   "cell_type": "code",
   "execution_count": null,
   "metadata": {},
   "outputs": [],
   "source": [
    "print(DOUBLE_LINE)\n",
    "print(SIMULATION_STARTED)\n",
    "print(DOUBLE_LINE)\n",
    "\n",
    "best_scores = []\n",
    "secondary_scores_of_best = []\n",
    "median_scores = []\n",
    "mean_scores = []\n",
    "best_grid_worlds = []\n",
    "best_population_paths = []\n",
    "best_generation = GENERATIONS\n",
    "\n",
    "for generation in range(1, GENERATIONS+1):\n",
    "    if generation == 1:\n",
    "        population = [fn.generate_agent(PATH_LENGTH, random_seed=i) for i in range(POPULATION_SIZE)]\n",
    "    else:\n",
    "        population = []\n",
    "        for i in range(int(POPULATION_SIZE/2)):\n",
    "            agent1 = fn.selection(population_sorted, bias=BIAS, mode=\"rank-based\", random_seed=i)\n",
    "            parent_flag = False\n",
    "            while not parent_flag:\n",
    "                agent2 = fn.selection(population_sorted, bias=BIAS, mode=\"rank-based\", random_seed=i*42+42)\n",
    "                if agent1 != agent2:\n",
    "                    parent_flag = True\n",
    "\n",
    "            new_agent1, new_agent2 = fn.crossover(agent1, agent2, random_seed=i)\n",
    "\n",
    "            mutated_new_agent1 = fn.mutate(new_agent1, mutation_probability=MUTATION_RATE, random_seed=i)\n",
    "            mutated_new_agent2 = fn.mutate(new_agent2, mutation_probability=MUTATION_RATE, random_seed=i)\n",
    "\n",
    "            population.extend([mutated_new_agent1, mutated_new_agent2])\n",
    "\n",
    "    primary_fitness_scores = []\n",
    "    secondary_fitness_scores = []\n",
    "    grid_worlds = []\n",
    "    population_paths = []\n",
    "\n",
    "    for agent in population:\n",
    "        primary_fitness_score, secondary_fitness_score, grid_world, path = fn.fitness_score_calculation(agent, initial_grid_world, PATH_LENGTH, START_POSITION, END_POSITION, PENALTY_COEFFICIENTS, GRID_SIZE)\n",
    "        \n",
    "        primary_fitness_scores.append(primary_fitness_score)\n",
    "        secondary_fitness_scores.append(secondary_fitness_score)\n",
    "        grid_worlds.append(grid_world)\n",
    "        population_paths.append(path)\n",
    "\n",
    "    population_sorted, indices_sorted = fn.population_sorting(population, primary_fitness_scores, secondary_fitness_scores)\n",
    "\n",
    "    best_score = np.min(np.array(primary_fitness_scores))\n",
    "    secondary_score_of_best = secondary_fitness_scores[indices_sorted[0]]\n",
    "    median_score = round(np.median(np.array(primary_fitness_scores)),4)\n",
    "    mean_score = round(np.mean(np.array(primary_fitness_scores)), 4)\n",
    "    best_grid_world = grid_worlds[indices_sorted[0]]\n",
    "    best_agent_path = population_paths[indices_sorted[0]]\n",
    "\n",
    "    best_scores.append(best_score)\n",
    "    secondary_scores_of_best.append(secondary_score_of_best)\n",
    "    median_scores.append(median_score)\n",
    "    mean_scores.append(mean_score)\n",
    "    best_population_paths.append(best_agent_path)\n",
    "    best_grid_worlds.append(best_grid_world)\n",
    "\n",
    "    print(f\" {generation}. Generation {generation} finished - best score: {best_score} - median score: {median_score} - mean score: {mean_score} - steps: {secondary_score_of_best}\")\n",
    "\n",
    "    if EARLY_STOP and best_score == 0:\n",
    "        best_generation = generation\n",
    "        break\n",
    "    elif best_score == 0 and secondary_score_of_best == NUM_OPTIMAL_STEPS:\n",
    "        best_generation = generation\n",
    "        break\n",
    "    else:\n",
    "        print(LINE)\n",
    "\n",
    "\n",
    "_, best_indices_sorted = fn.population_sorting(best_population_paths, best_scores, secondary_scores_of_best)\n",
    "best_generation = best_indices_sorted[0]\n",
    "final_best_score = best_scores[best_generation]\n",
    "final_best_secondary_score = secondary_scores_of_best[best_generation]\n",
    "\n",
    "print(LINE)\n",
    "print(f\"The best generation: {best_generation}\")\n",
    "print(f\"The best primary score: {final_best_score}\")\n",
    "print(f\"The best secondary score: {final_best_secondary_score}\")\n",
    "print(LINE)\n",
    "\n",
    "print(DOUBLE_LINE)\n",
    "print(SIMULATION_FINISHED)\n",
    "print(DOUBLE_LINE)"
   ]
  },
  {
   "cell_type": "markdown",
   "metadata": {},
   "source": [
    "### Result scores visualization"
   ]
  },
  {
   "cell_type": "code",
   "execution_count": null,
   "metadata": {},
   "outputs": [],
   "source": [
    "x_values = range(1, len(best_scores)+1)\n",
    "\n",
    "plt.figure(figsize=(10, 6))\n",
    "\n",
    "plt.plot(x_values, best_scores, label=\"Best Scores\")\n",
    "plt.plot(x_values, median_scores, label=\"Median Scores\")\n",
    "plt.plot(x_values, mean_scores, label=\"Mean Scores\")\n",
    "\n",
    "plt.title(\"Fitness scores over time for 'All to all' case\")\n",
    "plt.xlabel(\"Generation\")\n",
    "plt.ylabel(\"Fitness score\")\n",
    "plt.legend()\n",
    "\n",
    "plt.show()"
   ]
  },
  {
   "cell_type": "markdown",
   "metadata": {},
   "source": [
    "### Grid world path optimization evolution"
   ]
  },
  {
   "cell_type": "code",
   "execution_count": null,
   "metadata": {},
   "outputs": [],
   "source": [
    "counter = 1\n",
    "for generation, grid_world in enumerate(best_grid_worlds, 1):\n",
    "    if generation == 1 or generation == best_generation or generation%10 == 0:\n",
    "        print(f\"{counter}. generation {generation} grid world\")\n",
    "        title = f\"Generation {generation} grid world visualization\"\n",
    "        fn.grid_world_visualization(grid_world, agent_path=best_population_paths[generation], title=title, agent_flag=1)\n",
    "        print(LINE)\n",
    "        print()\n",
    "        counter += 1"
   ]
  },
  {
   "cell_type": "code",
   "execution_count": null,
   "metadata": {},
   "outputs": [],
   "source": [
    "print(DOUBLE_LINE)\n",
    "print(\"PATHS RECONSTRUCTION AND VIDEO CREATION\")\n",
    "print(DOUBLE_LINE)\n",
    "print(\"Path reconstruciton:\")\n",
    "fn.path_reconstruction(best_population_paths, initial_grid_world, ALL_TO_ALL_RESULTS_PATH, START_POSITION, END_POSITION, step=10)\n",
    "print(LINE)\n",
    "print(\"Video creation...\")\n",
    "fn.video_creation(ALL_TO_ALL_RESULTS_PATH, ALL_TO_ALL_VIDEO_PATH)\n",
    "print(\"Video creation finished!\")\n",
    "print(DOUBLE_LINE)"
   ]
  },
  {
   "cell_type": "code",
   "execution_count": null,
   "metadata": {},
   "outputs": [],
   "source": [
    "Video(ALL_TO_ALL_VIDEO_PATH, embed=True)"
   ]
  },
  {
   "cell_type": "markdown",
   "metadata": {},
   "source": [
    "## All to the best ones crossover case"
   ]
  },
  {
   "cell_type": "markdown",
   "metadata": {},
   "source": [
    "This case delves into the application of the Pareto Principle, or the 80/20 rule, within our genetic algorithm. By segmenting the population into the top 20% best-performing individuals and the remaining 80%, we leverage the principle that a small percentage of individuals can contribute significantly to the overall improvement of the population. The top 20% are prioritized for reproduction, ensuring that their superior traits are propagated, while the rest provide the necessary genetic diversity. This approach balances exploitation and exploration, driving the population towards optimal solutions without stagnation."
   ]
  },
  {
   "cell_type": "markdown",
   "metadata": {},
   "source": [
    "### Simulation"
   ]
  },
  {
   "cell_type": "code",
   "execution_count": null,
   "metadata": {},
   "outputs": [],
   "source": [
    "print(DOUBLE_LINE)\n",
    "print(SIMULATION_STARTED)\n",
    "print(DOUBLE_LINE)\n",
    "\n",
    "num_best = int(POPULATION_SIZE * BEST_ONES_PERCENTAGE)\n",
    "num_rest = POPULATION_SIZE - num_best\n",
    "\n",
    "best_scores = []\n",
    "secondary_scores_of_best = []\n",
    "median_scores = []\n",
    "mean_scores = []\n",
    "best_grid_worlds = []\n",
    "best_population_paths = []\n",
    "best_generation = GENERATIONS\n",
    "\n",
    "for generation in range(1, GENERATIONS+1):\n",
    "    if generation == 1:\n",
    "        population = [fn.generate_agent(PATH_LENGTH, random_seed=i) for i in range(POPULATION_SIZE)]\n",
    "    else:\n",
    "        population = []\n",
    "\n",
    "        best_individuals = population_sorted[:num_best]\n",
    "        rest_individuals = population_sorted[num_best:]\n",
    "        for i in range(int(POPULATION_SIZE/2)):\n",
    "            agent1 = fn.selection(best_individuals, mode=\"uniform\", random_seed=i)\n",
    "            agent2 = fn.selection(rest_individuals, mode=\"uniform\", random_seed=i*42+42)\n",
    "\n",
    "            new_agent1, new_agent2 = fn.crossover(agent1, agent2, random_seed=i)\n",
    "\n",
    "            mutated_new_agent1 = fn.mutate(new_agent1, mutation_probability=MUTATION_RATE, random_seed=i)\n",
    "            mutated_new_agent2 = fn.mutate(new_agent2, mutation_probability=MUTATION_RATE, random_seed=i)\n",
    "\n",
    "            population.extend([mutated_new_agent1, mutated_new_agent2])\n",
    "\n",
    "    primary_fitness_scores = []\n",
    "    secondary_fitness_scores = []\n",
    "    grid_worlds = []\n",
    "    population_paths = []\n",
    "\n",
    "    for agent in population:\n",
    "        primary_fitness_score, secondary_fitness_score, grid_world, path = fn.fitness_score_calculation(agent, initial_grid_world, PATH_LENGTH, START_POSITION, END_POSITION, PENALTY_COEFFICIENTS, GRID_SIZE)\n",
    "        \n",
    "        primary_fitness_scores.append(primary_fitness_score)\n",
    "        secondary_fitness_scores.append(secondary_fitness_scores)\n",
    "        grid_worlds.append(grid_world)\n",
    "        population_paths.append(path)\n",
    "\n",
    "    population_sorted, indices_sorted = fn.population_sorting(population, primary_fitness_scores, secondary_fitness_scores)\n",
    "\n",
    "    best_score = np.min(np.array(primary_fitness_scores))\n",
    "    secondary_score_of_best = secondary_fitness_scores[indices_sorted[0]]\n",
    "    median_score = round(np.median(np.array(primary_fitness_scores)),4)\n",
    "    mean_score = round(np.mean(np.array(primary_fitness_scores)), 4)\n",
    "    best_grid_world = grid_worlds[indices_sorted[0]]\n",
    "    best_agent_path = population_paths[indices_sorted[0]]\n",
    "\n",
    "    best_scores.append(best_score)\n",
    "    secondary_scores_of_best.append(secondary_score_of_best)\n",
    "    median_scores.append(median_score)\n",
    "    mean_scores.append(mean_score)\n",
    "    best_population_paths.append(best_agent_path)\n",
    "    best_grid_worlds.append(best_grid_world)\n",
    "\n",
    "    print(f\" {generation}. Generation {generation} finished - best score: {best_score} - median score: {median_score} - mean score: {mean_score} - steps: {secondary_score_of_best}\")\n",
    "\n",
    "    if EARLY_STOP and best_score == 0:\n",
    "        best_generation = generation\n",
    "        break\n",
    "    elif best_score == 0 and secondary_score_of_best == NUM_OPTIMAL_STEPS:\n",
    "        best_generation = generation\n",
    "        break\n",
    "    else:\n",
    "        print(LINE)\n",
    "\n",
    "\n",
    "_, best_indices_sorted = fn.population_sorting(best_population_paths, best_scores, secondary_scores_of_best)\n",
    "best_generation = best_indices_sorted[0]\n",
    "final_best_score = best_scores[best_generation]\n",
    "final_best_secondary_score = secondary_scores_of_best[best_generation]\n",
    "\n",
    "print(LINE)\n",
    "print(f\"The best generation: {best_generation}\")\n",
    "print(f\"The best primary score: {final_best_score}\")\n",
    "print(f\"The best secondary score: {final_best_secondary_score}\")\n",
    "print(LINE)\n",
    "\n",
    "print(DOUBLE_LINE)\n",
    "print(SIMULATION_FINISHED)\n",
    "print(DOUBLE_LINE)"
   ]
  },
  {
   "cell_type": "markdown",
   "metadata": {},
   "source": [
    "### Result scores visualization"
   ]
  },
  {
   "cell_type": "code",
   "execution_count": null,
   "metadata": {},
   "outputs": [],
   "source": [
    "x_values = range(1, len(best_scores)+1)\n",
    "\n",
    "plt.figure(figsize=(10, 6))\n",
    "\n",
    "plt.plot(x_values, best_scores, label=\"Best Scores\")\n",
    "plt.plot(x_values, median_scores, label=\"Median Scores\")\n",
    "plt.plot(x_values, mean_scores, label=\"Mean Scores\")\n",
    "\n",
    "plt.title(\"Fitness scores over time for 'All to best' case\")\n",
    "plt.xlabel(\"Generation\")\n",
    "plt.ylabel(\"Fitness score\")\n",
    "plt.legend()\n",
    "\n",
    "plt.show()"
   ]
  },
  {
   "cell_type": "markdown",
   "metadata": {},
   "source": [
    "### Grid world path optimization evolution"
   ]
  },
  {
   "cell_type": "code",
   "execution_count": null,
   "metadata": {},
   "outputs": [],
   "source": [
    "counter = 1\n",
    "for generation, grid_world in enumerate(best_grid_worlds, 1):\n",
    "    if generation == 1 or generation == best_generation or generation%5 == 0:\n",
    "        print(f\"{counter}. generation {generation} grid world\")\n",
    "        title = f\"Generation {generation} grid world visualization\"\n",
    "        fn.grid_world_visualization(grid_world, agent_path=best_population_paths[generation], title=title, agent_flag=1)\n",
    "        print(LINE)\n",
    "        print()\n",
    "        counter += 1"
   ]
  },
  {
   "cell_type": "code",
   "execution_count": null,
   "metadata": {},
   "outputs": [],
   "source": [
    "print(DOUBLE_LINE)\n",
    "print(\"PATHS RECONSTRUCTION AND VIDEO CREATION\")\n",
    "print(DOUBLE_LINE)\n",
    "print(\"Path reconstruciton:\")\n",
    "fn.path_reconstruction(best_population_paths, initial_grid_world, ALL_TO_BEST_RESULTS_PATH, START_POSITION, END_POSITION, step=5)\n",
    "print(LINE)\n",
    "print(\"Video creation...\")\n",
    "fn.video_creation(ALL_TO_BEST_RESULTS_PATH, ALL_TO_BEST_VIDEO_PATH)\n",
    "print(\"Video creation finished!\")\n",
    "print(DOUBLE_LINE)"
   ]
  },
  {
   "cell_type": "code",
   "execution_count": null,
   "metadata": {},
   "outputs": [],
   "source": [
    "Video(ALL_TO_BEST_VIDEO_PATH, embed=True)"
   ]
  },
  {
   "cell_type": "markdown",
   "metadata": {},
   "source": [
    "## Hybrid evolutionary case"
   ]
  },
  {
   "cell_type": "markdown",
   "metadata": {},
   "source": [
    "In this case, we analyze the convergence behavior of our genetic algorithm, focusing on the segmentation of the population into three groups: the top 20% best-performing individuals, the middle 60% representing the rest of the population, and the bottom 20% initially included but later merged into the rest. The best individuals are preserved and prioritized for reproduction, ensuring that their superior traits are consistently passed on to future generations. This preservation guarantees that the highest-performing solutions are maintained within the population. The middle group provides necessary genetic diversity, promoting exploration and preventing premature convergence. The bottom group is replaced with newly generated individuals to introduce fresh genetic material. This approach balances exploitation of the best solutions, preservation of superior traits, and exploration of new possibilities, driving the population towards optimal solutions over successive generations."
   ]
  },
  {
   "cell_type": "markdown",
   "metadata": {},
   "source": [
    "### Simulation"
   ]
  },
  {
   "cell_type": "code",
   "execution_count": null,
   "metadata": {},
   "outputs": [],
   "source": [
    "print(DOUBLE_LINE)\n",
    "print(SIMULATION_STARTED)\n",
    "print(DOUBLE_LINE)\n",
    "\n",
    "num_best = int(POPULATION_SIZE * BEST_ONES_PERCENTAGE)\n",
    "num_worst = int(POPULATION_SIZE * WORST_ONES_PERCENTAGE)\n",
    "num_middle = POPULATION_SIZE - num_best - num_worst\n",
    "\n",
    "best_scores = []\n",
    "secondary_scores_of_best = []\n",
    "median_scores = []\n",
    "mean_scores = []\n",
    "best_grid_worlds = []\n",
    "best_population_paths = []\n",
    "best_generation = GENERATIONS\n",
    "\n",
    "for generation in range(1, GENERATIONS+1):\n",
    "    if generation == 1:\n",
    "        population = [fn.generate_agent(PATH_LENGTH, random_seed=i) for i in range(POPULATION_SIZE)]\n",
    "    else:\n",
    "        population = []\n",
    "\n",
    "        best_individuals = population_sorted[:num_best]\n",
    "        middle_individuals = population_sorted[num_best:num_best+num_middle]\n",
    "        worst_individuals = population_sorted[-num_worst:]\n",
    "\n",
    "        population.extend(best_individuals)\n",
    "\n",
    "        for i in range(int(num_middle / 2)):\n",
    "            agent1 = fn.selection(best_individuals, mode=\"uniform\", random_seed=i)\n",
    "            agent2 = fn.selection(middle_individuals, mode=\"uniform\", random_seed=i * 42 + 42)\n",
    "\n",
    "            new_agent1, new_agent2 = fn.crossover(agent1, agent2, random_seed=i)\n",
    "\n",
    "            mutated_new_agent1 = fn.mutate(new_agent1, mutation_probability=MUTATION_RATE, random_seed=i)\n",
    "            mutated_new_agent2 = fn.mutate(new_agent2, mutation_probability=MUTATION_RATE, random_seed=i)\n",
    "\n",
    "            population.extend([mutated_new_agent1, mutated_new_agent2])\n",
    "\n",
    "        worst_replacements = [fn.generate_agent(PATH_LENGTH, random_seed=i + POPULATION_SIZE) for i in range(num_worst)]\n",
    "        population.extend(worst_replacements)\n",
    "\n",
    "    primary_fitness_scores = []\n",
    "    secondary_fitness_scores = []\n",
    "    grid_worlds = []\n",
    "    population_paths = []\n",
    "\n",
    "    for agent in population:\n",
    "        primary_fitness_score, secondary_fitness_score, grid_world, path = fn.fitness_score_calculation(agent, initial_grid_world, PATH_LENGTH, START_POSITION, END_POSITION, PENALTY_COEFFICIENTS, GRID_SIZE)\n",
    "        \n",
    "        primary_fitness_scores.append(primary_fitness_score)\n",
    "        secondary_fitness_scores.append(secondary_fitness_scores)\n",
    "        grid_worlds.append(grid_world)\n",
    "        population_paths.append(path)\n",
    "\n",
    "    population_sorted, indices_sorted = fn.population_sorting(population, primary_fitness_scores, secondary_fitness_scores)\n",
    "\n",
    "    best_score = np.min(np.array(primary_fitness_scores))\n",
    "    secondary_score_of_best = secondary_fitness_scores[indices_sorted[0]]\n",
    "    median_score = round(np.median(np.array(primary_fitness_scores)),4)\n",
    "    mean_score = round(np.mean(np.array(primary_fitness_scores)), 4)\n",
    "    best_grid_world = grid_worlds[indices_sorted[0]]\n",
    "    best_agent_path = population_paths[indices_sorted[0]]\n",
    "\n",
    "    best_scores.append(best_score)\n",
    "    secondary_scores_of_best.append(secondary_score_of_best)\n",
    "    median_scores.append(median_score)\n",
    "    mean_scores.append(mean_score)\n",
    "    best_population_paths.append(best_agent_path)\n",
    "    best_grid_worlds.append(best_grid_world)\n",
    "\n",
    "    print(f\" {generation}. Generation {generation} finished - best score: {best_score} - median score: {median_score} - mean score: {mean_score} - steps: {secondary_score_of_best}\")\n",
    "\n",
    "    if EARLY_STOP and best_score == 0:\n",
    "        best_generation = generation\n",
    "        break\n",
    "    elif best_score == 0 and secondary_score_of_best == NUM_OPTIMAL_STEPS:\n",
    "        best_generation = generation\n",
    "        break\n",
    "    else:\n",
    "        print(LINE)\n",
    "\n",
    "_, best_indices_sorted = fn.population_sorting(best_population_paths, best_scores, secondary_scores_of_best)\n",
    "best_generation = best_indices_sorted[0]\n",
    "final_best_score = best_scores[best_generation]\n",
    "final_best_secondary_score = secondary_scores_of_best[best_generation]\n",
    "\n",
    "print(LINE)\n",
    "print(f\"The best generation: {best_generation}\")\n",
    "print(f\"The best primary score: {final_best_score}\")\n",
    "print(f\"The best secondary score: {final_best_secondary_score}\")\n",
    "print(LINE)\n",
    "\n",
    "print(DOUBLE_LINE)\n",
    "print(SIMULATION_FINISHED)\n",
    "print(DOUBLE_LINE)"
   ]
  },
  {
   "cell_type": "markdown",
   "metadata": {},
   "source": [
    "### Result scores visualization"
   ]
  },
  {
   "cell_type": "code",
   "execution_count": null,
   "metadata": {},
   "outputs": [],
   "source": [
    "x_values = range(1, len(best_scores)+1)\n",
    "\n",
    "plt.figure(figsize=(10, 6))\n",
    "\n",
    "plt.plot(x_values, best_scores, label=\"Best Scores\")\n",
    "plt.plot(x_values, median_scores, label=\"Median Scores\")\n",
    "plt.plot(x_values, mean_scores, label=\"Mean Scores\")\n",
    "\n",
    "plt.title(\"Fitness scores over time for Hybrid case\")\n",
    "plt.xlabel(\"Generation\")\n",
    "plt.ylabel(\"Fitness score\")\n",
    "plt.legend()\n",
    "\n",
    "plt.show()"
   ]
  },
  {
   "cell_type": "markdown",
   "metadata": {},
   "source": [
    "### Grid world path optimization evolution"
   ]
  },
  {
   "cell_type": "code",
   "execution_count": null,
   "metadata": {},
   "outputs": [],
   "source": [
    "counter = 1\n",
    "for generation, grid_world in enumerate(best_grid_worlds, 1):\n",
    "    if generation == 1 or generation == best_generation or generation%5 == 0:\n",
    "        print(f\"{counter}. generation {generation} grid world\")\n",
    "        title = f\"Generation {generation} grid world visualization\"\n",
    "        fn.grid_world_visualization(grid_world, agent_path=best_population_paths[generation], title=title, agent_flag=1)\n",
    "        print(LINE)\n",
    "        print()\n",
    "        counter += 1"
   ]
  },
  {
   "cell_type": "code",
   "execution_count": null,
   "metadata": {},
   "outputs": [],
   "source": [
    "print(DOUBLE_LINE)\n",
    "print(\"PATHS RECONSTRUCTION AND VIDEO CREATION\")\n",
    "print(DOUBLE_LINE)\n",
    "print(\"Path reconstruciton:\")\n",
    "fn.path_reconstruction(best_population_paths, initial_grid_world, HYBRID_RESULTS_PATH, START_POSITION, END_POSITION, step=5)\n",
    "print(LINE)\n",
    "print(\"Video creation...\")\n",
    "fn.video_creation(HYBRID_RESULTS_PATH, HYBRID_VIDEO_PATH)\n",
    "print(\"Video creation finished!\")\n",
    "print(DOUBLE_LINE)"
   ]
  },
  {
   "cell_type": "code",
   "execution_count": null,
   "metadata": {},
   "outputs": [],
   "source": [
    "Video(HYBRID_VIDEO_PATH, embed=True)"
   ]
  }
 ],
 "metadata": {
  "kernelspec": {
   "display_name": "genetic_grid_world",
   "language": "python",
   "name": "python3"
  },
  "language_info": {
   "codemirror_mode": {
    "name": "ipython",
    "version": 3
   },
   "file_extension": ".py",
   "mimetype": "text/x-python",
   "name": "python",
   "nbconvert_exporter": "python",
   "pygments_lexer": "ipython3",
   "version": "3.8.19"
  }
 },
 "nbformat": 4,
 "nbformat_minor": 2
}
